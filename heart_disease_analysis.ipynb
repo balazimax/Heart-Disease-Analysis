{
 "cells": [
  {
   "cell_type": "markdown",
   "id": "5b548943",
   "metadata": {},
   "source": [
    "# Heart Disease — EDA & Baseline Models\n",
    "This notebook reproduces a compact exploratory analysis and two simple baseline models (Linear Regression and Random Forest Regressor) on the heart disease dataset."
   ]
  },
  {
   "cell_type": "code",
   "execution_count": null,
   "id": "2c122414",
   "metadata": {},
   "outputs": [],
   "source": [
    "# Imports\n",
    "import pandas as pd\n",
    "import numpy as np\n",
    "import matplotlib.pyplot as plt\n",
    "\n",
    "from sklearn.model_selection import train_test_split\n",
    "from sklearn.metrics import mean_squared_error, r2_score, accuracy_score, precision_recall_fscore_support, confusion_matrix, classification_report\n",
    "from sklearn.linear_model import LinearRegression\n",
    "from sklearn.ensemble import RandomForestRegressor\n",
    "\n",
    "# Optional: make output a bit wider\n",
    "pd.set_option('display.max_columns', None)\n"
   ]
  },
  {
   "cell_type": "code",
   "execution_count": null,
   "id": "69fd0fbd",
   "metadata": {},
   "outputs": [],
   "source": [
    "# Load data\n",
    "# If your CSV is elsewhere, update the path below.\n",
    "csv_path = 'heart-1.csv'\n",
    "data = pd.read_csv(csv_path)\n",
    "\n",
    "print(\"Shape:\", data.shape)\n",
    "data.head()"
   ]
  },
  {
   "cell_type": "code",
   "execution_count": null,
   "id": "1dd18a10",
   "metadata": {},
   "outputs": [],
   "source": [
    "# Basic info / null checks\n",
    "print(data.info())\n",
    "print(\"\\nNull counts:\\n\", data.isnull().sum())\n",
    "display(data.describe(include='all'))"
   ]
  },
  {
   "cell_type": "code",
   "execution_count": null,
   "id": "10f1dc0f",
   "metadata": {},
   "outputs": [],
   "source": [
    "# Quick distributions for a few numeric features\n",
    "num_cols = ['age','trtbps','chol','thalachh','oldpeak']\n",
    "for col in num_cols:\n",
    "    plt.figure()\n",
    "    data[col].hist(bins=20)\n",
    "    plt.title(f'Distribution: {col}')\n",
    "    plt.xlabel(col)\n",
    "    plt.ylabel('Count')\n",
    "    plt.show()"
   ]
  },
  {
   "cell_type": "code",
   "execution_count": null,
   "id": "4097295e",
   "metadata": {},
   "outputs": [],
   "source": [
    "# Train/test split\n",
    "X = data.drop(columns=['output'])\n",
    "y = data['output']\n",
    "\n",
    "X_train, X_test, y_train, y_test = train_test_split(\n",
    "    X, y, test_size=0.2, random_state=42, stratify=y\n",
    ")\n",
    "\n",
    "X_train.shape, X_test.shape"
   ]
  },
  {
   "cell_type": "code",
   "execution_count": null,
   "id": "6f10230d",
   "metadata": {},
   "outputs": [],
   "source": [
    "# Linear Regression (as a regressor)\n",
    "lr = LinearRegression()\n",
    "lr.fit(X_train, y_train)\n",
    "\n",
    "lr_pred_reg = lr.predict(X_test)\n",
    "lr_mse = mean_squared_error(y_test, lr_pred_reg)\n",
    "lr_r2  = r2_score(y_test, lr_pred_reg)\n",
    "\n",
    "print(\"Linear Regression — MSE:\", lr_mse)\n",
    "print(\"Linear Regression — R² :\", lr_r2)"
   ]
  },
  {
   "cell_type": "code",
   "execution_count": null,
   "id": "e66d2d80",
   "metadata": {},
   "outputs": [],
   "source": [
    "# Random Forest Regressor (baseline)\n",
    "rf = RandomForestRegressor(\n",
    "    n_estimators=200,\n",
    "    max_depth=None,\n",
    "    random_state=42,\n",
    "    n_jobs=-1\n",
    ")\n",
    "rf.fit(X_train, y_train)\n",
    "\n",
    "rf_pred_reg = rf.predict(X_test)\n",
    "rf_mse = mean_squared_error(y_test, rf_pred_reg)\n",
    "rf_r2  = r2_score(y_test, rf_pred_reg)\n",
    "\n",
    "print(\"Random Forest Regressor — MSE:\", rf_mse)\n",
    "print(\"Random Forest Regressor — R² :\", rf_r2)"
   ]
  },
  {
   "cell_type": "code",
   "execution_count": null,
   "id": "06632086",
   "metadata": {},
   "outputs": [],
   "source": [
    "# (Optional) Treat the regression outputs as probabilities and threshold at 0.5 to get rough classification metrics\n",
    "def threshold_preds(preds, thr=0.5):\n",
    "    return (preds >= thr).astype(int)\n",
    "\n",
    "for name, preds in [('LR', lr_pred_reg), ('RF', rf_pred_reg)]:\n",
    "    y_hat = threshold_preds(preds, 0.5)\n",
    "    acc = accuracy_score(y_test, y_hat)\n",
    "    prec, rec, f1, _ = precision_recall_fscore_support(y_test, y_hat, average='binary', zero_division=0)\n",
    "    cm = confusion_matrix(y_test, y_hat)\n",
    "    print(f\"\\n{name} thresholded @0.5 — Acc: {acc:.4f}  Prec: {prec:.4f}  Rec: {rec:.4f}  F1: {f1:.4f}\")\n",
    "    print(\"Confusion Matrix:\\n\", cm)\n",
    "    print(\"\\nClassification report:\\n\", classification_report(y_test, y_hat, zero_division=0))"
   ]
  },
  {
   "cell_type": "markdown",
   "id": "12d0f2f3",
   "metadata": {},
   "source": [
    "### Next ideas\n",
    "- Try feature scaling and regularization (e.g., Ridge/Lasso) for LR.\n",
    "- Tune RF hyperparameters with `RandomizedSearchCV`/`GridSearchCV`.\n",
    "- Try Gradient Boosting models (XGBoost, LightGBM) or calibrated classifiers.\n",
    "- Handle class imbalance if present (e.g., class weights, resampling)."
   ]
  }
 ],
 "metadata": {},
 "nbformat": 4,
 "nbformat_minor": 5
}
